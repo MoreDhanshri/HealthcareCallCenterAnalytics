{
 "cells": [
  {
   "cell_type": "code",
   "execution_count": 1,
   "id": "6c59176f",
   "metadata": {},
   "outputs": [
    {
     "name": "stdout",
     "output_type": "stream",
     "text": [
      "Requirement already satisfied: azure-storage-blob in /anaconda/envs/azureml_py36/lib/python3.6/site-packages (12.9.0)\n",
      "Requirement already satisfied: msrest>=0.6.21 in /anaconda/envs/azureml_py36/lib/python3.6/site-packages (from azure-storage-blob) (0.6.21)\n",
      "Requirement already satisfied: cryptography>=2.1.4 in /anaconda/envs/azureml_py36/lib/python3.6/site-packages (from azure-storage-blob) (3.4.8)\n",
      "Requirement already satisfied: azure-core<2.0.0,>=1.10.0 in /anaconda/envs/azureml_py36/lib/python3.6/site-packages (from azure-storage-blob) (1.19.1)\n",
      "Requirement already satisfied: requests~=2.16 in /anaconda/envs/azureml_py36/lib/python3.6/site-packages (from msrest>=0.6.21->azure-storage-blob) (2.26.0)\n",
      "Requirement already satisfied: requests-oauthlib>=0.5.0 in /anaconda/envs/azureml_py36/lib/python3.6/site-packages (from msrest>=0.6.21->azure-storage-blob) (1.3.0)\n",
      "Requirement already satisfied: certifi>=2017.4.17 in /anaconda/envs/azureml_py36/lib/python3.6/site-packages (from msrest>=0.6.21->azure-storage-blob) (2021.10.8)\n",
      "Requirement already satisfied: isodate>=0.6.0 in /anaconda/envs/azureml_py36/lib/python3.6/site-packages (from msrest>=0.6.21->azure-storage-blob) (0.6.0)\n",
      "Requirement already satisfied: cffi>=1.12 in /anaconda/envs/azureml_py36/lib/python3.6/site-packages (from cryptography>=2.1.4->azure-storage-blob) (1.15.0)\n",
      "Requirement already satisfied: six>=1.11.0 in /anaconda/envs/azureml_py36/lib/python3.6/site-packages (from azure-core<2.0.0,>=1.10.0->azure-storage-blob) (1.16.0)\n",
      "Requirement already satisfied: charset-normalizer~=2.0.0; python_version >= \"3\" in /anaconda/envs/azureml_py36/lib/python3.6/site-packages (from requests~=2.16->msrest>=0.6.21->azure-storage-blob) (2.0.7)\n",
      "Requirement already satisfied: urllib3<1.27,>=1.21.1 in /anaconda/envs/azureml_py36/lib/python3.6/site-packages (from requests~=2.16->msrest>=0.6.21->azure-storage-blob) (1.25.11)\n",
      "Requirement already satisfied: idna<4,>=2.5; python_version >= \"3\" in /anaconda/envs/azureml_py36/lib/python3.6/site-packages (from requests~=2.16->msrest>=0.6.21->azure-storage-blob) (3.3)\n",
      "Requirement already satisfied: oauthlib>=3.0.0 in /anaconda/envs/azureml_py36/lib/python3.6/site-packages (from requests-oauthlib>=0.5.0->msrest>=0.6.21->azure-storage-blob) (3.1.1)\n",
      "Requirement already satisfied: pycparser in /anaconda/envs/azureml_py36/lib/python3.6/site-packages (from cffi>=1.12->cryptography>=2.1.4->azure-storage-blob) (2.20)\n"
     ]
    }
   ],
   "source": [
    "!pip install azure-storage-blob\n"
   ]
  },
  {
   "cell_type": "code",
   "execution_count": 4,
   "id": "377e28f6",
   "metadata": {},
   "outputs": [],
   "source": [
    "import os, uuid, glob\n",
    "from azure.storage.blob import BlobServiceClient, BlobClient, ContentSettings, ContainerClient, __version__\n",
    "import subprocess"
   ]
  },
  {
   "cell_type": "code",
   "execution_count": null,
   "id": "bb30c7ef",
   "metadata": {},
   "outputs": [],
   "source": [
    "# replace this connection string and container name with your storage connection and container name \n",
    "connect_str=\"BlobEndpoint=https:endpoint\"\n",
    "container_name=\"tempaudio\"\n",
    "wavcontainer_name='tempwav'"
   ]
  },
  {
   "cell_type": "code",
   "execution_count": 6,
   "id": "eca627fd",
   "metadata": {},
   "outputs": [
    {
     "name": "stdout",
     "output_type": "stream",
     "text": [
      "Intializing AzureBlobFileDownloader\n",
      "Clip1.mp3\n",
      "command : ffmpeg -i sampledata/wavoutput/Clip1.mp3 -ar 16000 -vn sampledata/wavoutput/Clip1.wav\n",
      "\n",
      "Uploading wav file to Azure Storage as blob:\n",
      "\tsampledata/wavoutput/Clip1.wav\n",
      "Clip2.mp3\n",
      "command : ffmpeg -i sampledata/wavoutput/Clip2.mp3 -ar 16000 -vn sampledata/wavoutput/Clip2.wav\n",
      "\n",
      "Uploading wav file to Azure Storage as blob:\n",
      "\tsampledata/wavoutput/Clip2.wav\n",
      "call-center-talk-video-sample.mp4\n",
      "command : ffmpeg -i sampledata/wavoutput/call-center-talk-video-sample.mp4 -ar 16000 -vn sampledata/wavoutput/call-center-talk-video-sample.wav\n",
      "\n",
      "Uploading wav file to Azure Storage as blob:\n",
      "\tsampledata/wavoutput/call-center-talk-video-sample.wav\n"
     ]
    }
   ],
   "source": [
    "# Replace with the local folder where you want files to be downloaded\n",
    "local_folder_path = \"sampledata/wavoutput/\"\n",
    "\n",
    "\n",
    "# %%\n",
    "\n",
    "\n",
    "class AzureBlobFileDownloader:\n",
    "  def __init__(self):\n",
    "    print(\"Intializing AzureBlobFileDownloader\")\n",
    " \n",
    "    # Initialize the connection to Azure storage account\n",
    "    self.blob_service_client =  BlobServiceClient.from_connection_string(connect_str)\n",
    "    self.my_container = self.blob_service_client.get_container_client(container_name)\n",
    "    #self.wav_container= self.blob_service_client.get_container_client(wavcontainer_name)\n",
    " \n",
    " \n",
    "  def save_blob(self,file_name,file_content):\n",
    "    # Get full path to the file\n",
    "    download_file_path = os.path.join(local_folder_path, file_name)\n",
    " \n",
    "    # for nested blobs, create local path as well!\n",
    "    os.makedirs(os.path.dirname(download_file_path), exist_ok=True)\n",
    " \n",
    "    with open(download_file_path, \"wb\") as file:\n",
    "      file.write(file_content)\n",
    "    \n",
    "    #filepath='sampledata/mp4input/call-center-talk-video-sample.mp4'\n",
    "    download_file_path_no_ext = os.path.splitext(download_file_path)[0]\n",
    "    command = \"ffmpeg -i\"+\" \"+download_file_path+\" \"+\"-ar 16000 -vn\"+\" \"+download_file_path_no_ext+\".wav\"\n",
    "    print('command :',command)\n",
    "    subprocess.call(command, shell=True)\n",
    "    \n",
    "    # Create a blob client using the local file name as the name for the blob\n",
    "    wav_local_file_name=download_file_path_no_ext+\".wav\"\n",
    "    blob_client = self.blob_service_client.get_blob_client(container=wavcontainer_name, blob=wav_local_file_name)\n",
    "\n",
    "    print(\"\\nUploading wav file to Azure Storage as blob:\\n\\t\" + wav_local_file_name)\n",
    "\n",
    "    # Upload the created file\n",
    "    with open(wav_local_file_name, \"rb\") as data:\n",
    "        blob_client.upload_blob(data)\n",
    "        \n",
    " \n",
    "  def download_blob(self):\n",
    "    my_blobs = self.my_container.list_blobs()\n",
    "    for blob in my_blobs:\n",
    "      print(blob.name)\n",
    "      bytes = self.my_container.get_blob_client(blob).download_blob().readall()\n",
    "      self.save_blob(blob.name, bytes)\n",
    "      #self.my_container.get_blob_client(blob).delete_blob()\n",
    "        \n",
    "\n",
    "        \n",
    "        \n",
    " \n",
    "# Initialize class and upload files\n",
    "azure_blob_file_downloader = AzureBlobFileDownloader()\n",
    "azure_blob_file_downloader.download_blob()\n"
   ]
  },
  {
   "cell_type": "code",
   "execution_count": 7,
   "id": "5cdc0e83",
   "metadata": {},
   "outputs": [],
   "source": [
    "#empty local folder\n",
    "import os, shutil\n",
    "folder_tbd = local_folder_path\n",
    "for filename in os.listdir(folder_tbd):\n",
    "    file_path = os.path.join(folder_tbd, filename)\n",
    "    try:\n",
    "        if os.path.isfile(file_path) or os.path.islink(file_path):\n",
    "            os.unlink(file_path)\n",
    "        elif os.path.isdir(file_path):\n",
    "            shutil.rmtree(file_path)\n",
    "    except Exception as e:\n",
    "        print('Failed to delete %s. Reason: %s' % (file_path, e))"
   ]
  }
 ],
 "metadata": {
  "kernelspec": {
   "display_name": "Python 3",
   "language": "python",
   "name": "python3"
  },
  "language_info": {
   "codemirror_mode": {
    "name": "ipython",
    "version": 3
   },
   "file_extension": ".py",
   "mimetype": "text/x-python",
   "name": "python",
   "nbconvert_exporter": "python",
   "pygments_lexer": "ipython3",
   "version": "3.6.9"
  }
 },
 "nbformat": 4,
 "nbformat_minor": 5
}
